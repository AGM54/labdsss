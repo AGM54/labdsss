{
 "cells": [
  {
   "cell_type": "code",
   "execution_count": 2,
   "metadata": {},
   "outputs": [
    {
     "data": {
      "text/html": [
       "<div>\n",
       "<style scoped>\n",
       "    .dataframe tbody tr th:only-of-type {\n",
       "        vertical-align: middle;\n",
       "    }\n",
       "\n",
       "    .dataframe tbody tr th {\n",
       "        vertical-align: top;\n",
       "    }\n",
       "\n",
       "    .dataframe thead th {\n",
       "        text-align: right;\n",
       "    }\n",
       "</style>\n",
       "<table border=\"1\" class=\"dataframe\">\n",
       "  <thead>\n",
       "    <tr style=\"text-align: right;\">\n",
       "      <th></th>\n",
       "      <th>id</th>\n",
       "      <th>keyword</th>\n",
       "      <th>location</th>\n",
       "      <th>text</th>\n",
       "      <th>target</th>\n",
       "    </tr>\n",
       "  </thead>\n",
       "  <tbody>\n",
       "    <tr>\n",
       "      <th>0</th>\n",
       "      <td>1</td>\n",
       "      <td>NaN</td>\n",
       "      <td>NaN</td>\n",
       "      <td>Our Deeds are the Reason of this #earthquake M...</td>\n",
       "      <td>1</td>\n",
       "    </tr>\n",
       "    <tr>\n",
       "      <th>1</th>\n",
       "      <td>4</td>\n",
       "      <td>NaN</td>\n",
       "      <td>NaN</td>\n",
       "      <td>Forest fire near La Ronge Sask. Canada</td>\n",
       "      <td>1</td>\n",
       "    </tr>\n",
       "    <tr>\n",
       "      <th>2</th>\n",
       "      <td>5</td>\n",
       "      <td>NaN</td>\n",
       "      <td>NaN</td>\n",
       "      <td>All residents asked to 'shelter in place' are ...</td>\n",
       "      <td>1</td>\n",
       "    </tr>\n",
       "    <tr>\n",
       "      <th>3</th>\n",
       "      <td>6</td>\n",
       "      <td>NaN</td>\n",
       "      <td>NaN</td>\n",
       "      <td>13,000 people receive #wildfires evacuation or...</td>\n",
       "      <td>1</td>\n",
       "    </tr>\n",
       "    <tr>\n",
       "      <th>4</th>\n",
       "      <td>7</td>\n",
       "      <td>NaN</td>\n",
       "      <td>NaN</td>\n",
       "      <td>Just got sent this photo from Ruby #Alaska as ...</td>\n",
       "      <td>1</td>\n",
       "    </tr>\n",
       "  </tbody>\n",
       "</table>\n",
       "</div>"
      ],
      "text/plain": [
       "   id keyword location                                               text  \\\n",
       "0   1     NaN      NaN  Our Deeds are the Reason of this #earthquake M...   \n",
       "1   4     NaN      NaN             Forest fire near La Ronge Sask. Canada   \n",
       "2   5     NaN      NaN  All residents asked to 'shelter in place' are ...   \n",
       "3   6     NaN      NaN  13,000 people receive #wildfires evacuation or...   \n",
       "4   7     NaN      NaN  Just got sent this photo from Ruby #Alaska as ...   \n",
       "\n",
       "   target  \n",
       "0       1  \n",
       "1       1  \n",
       "2       1  \n",
       "3       1  \n",
       "4       1  "
      ]
     },
     "execution_count": 2,
     "metadata": {},
     "output_type": "execute_result"
    }
   ],
   "source": [
    "import pandas as pd\n",
    "\n",
    "# Cargar los datos\n",
    "file_path = 'train.csv'\n",
    "data = pd.read_csv(file_path)\n",
    "\n",
    "# Mostrar las primeras filas del dataframe\n",
    "data.head()\n"
   ]
  },
  {
   "cell_type": "markdown",
   "metadata": {},
   "source": [
    "Limpieza de datos\n"
   ]
  },
  {
   "cell_type": "code",
   "execution_count": 3,
   "metadata": {},
   "outputs": [],
   "source": [
    "data['text'] = data['text'].str.lower()\n"
   ]
  },
  {
   "cell_type": "code",
   "execution_count": 4,
   "metadata": {},
   "outputs": [],
   "source": [
    "import re\n",
    "\n",
    "# Eliminar caracteres especiales\n",
    "data['text'] = data['text'].apply(lambda x: re.sub(r\"[@#']\", '', x))\n"
   ]
  },
  {
   "cell_type": "code",
   "execution_count": 5,
   "metadata": {},
   "outputs": [],
   "source": [
    "# Eliminar URLs\n",
    "data['text'] = data['text'].apply(lambda x: re.sub(r\"http\\S+\", '', x))\n"
   ]
  },
  {
   "cell_type": "code",
   "execution_count": 6,
   "metadata": {},
   "outputs": [],
   "source": [
    "# Eliminar emoticones\n",
    "data['text'] = data['text'].apply(lambda x: re.sub(r'[^\\w\\s,]', '', x))\n"
   ]
  },
  {
   "cell_type": "code",
   "execution_count": 7,
   "metadata": {},
   "outputs": [],
   "source": [
    "# Eliminar signos de puntuación\n",
    "data['text'] = data['text'].apply(lambda x: re.sub(r'[^\\w\\s]', '', x))\n"
   ]
  },
  {
   "cell_type": "code",
   "execution_count": 8,
   "metadata": {},
   "outputs": [],
   "source": [
    "# Eliminar números\n",
    "data['text'] = data['text'].apply(lambda x: re.sub(r'\\d+', '', x))\n"
   ]
  },
  {
   "cell_type": "code",
   "execution_count": 9,
   "metadata": {},
   "outputs": [
    {
     "data": {
      "text/plain": [
       "([('the', 1358),\n",
       "  ('in', 1159),\n",
       "  ('a', 931),\n",
       "  ('of', 922),\n",
       "  ('to', 757),\n",
       "  ('and', 501),\n",
       "  ('on', 417),\n",
       "  ('for', 399),\n",
       "  ('is', 349),\n",
       "  ('i', 321)],\n",
       " [('the', 1905),\n",
       "  ('a', 1257),\n",
       "  ('to', 1188),\n",
       "  ('i', 1077),\n",
       "  ('and', 917),\n",
       "  ('of', 901),\n",
       "  ('in', 818),\n",
       "  ('you', 664),\n",
       "  ('is', 595),\n",
       "  ('my', 544)])"
      ]
     },
     "execution_count": 9,
     "metadata": {},
     "output_type": "execute_result"
    }
   ],
   "source": [
    "from collections import Counter\n",
    "\n",
    "# Dividir datos en desastres y no desastres\n",
    "disaster_tweets = data[data['target'] == 1]\n",
    "non_disaster_tweets = data[data['target'] == 0]\n",
    "\n",
    "# Calcular la frecuencia de palabras\n",
    "disaster_words = Counter(\" \".join(disaster_tweets['text']).split())\n",
    "non_disaster_words = Counter(\" \".join(non_disaster_tweets['text']).split())\n",
    "\n",
    "# Mostrar las 10 palabras más comunes en cada categoría\n",
    "disaster_words.most_common(10), non_disaster_words.most_common(10)\n"
   ]
  },
  {
   "cell_type": "code",
   "execution_count": 14,
   "metadata": {},
   "outputs": [
    {
     "data": {
      "text/plain": [
       "([('fire', 178),\n",
       "  ('news', 140),\n",
       "  ('via', 121),\n",
       "  ('disaster', 117),\n",
       "  ('california', 111),\n",
       "  ('suicide', 110),\n",
       "  ('police', 107),\n",
       "  ('amp', 107),\n",
       "  ('people', 105),\n",
       "  ('killed', 93)],\n",
       " [('like', 253),\n",
       "  ('im', 243),\n",
       "  ('amp', 193),\n",
       "  ('new', 168),\n",
       "  ('get', 163),\n",
       "  ('dont', 141),\n",
       "  ('one', 127),\n",
       "  ('body', 112),\n",
       "  ('via', 99),\n",
       "  ('would', 97)])"
      ]
     },
     "execution_count": 14,
     "metadata": {},
     "output_type": "execute_result"
    }
   ],
   "source": [
    "from collections import Counter\n",
    "\n",
    "# Lista manual de stopwords en inglés\n",
    "manual_stopwords = set([\n",
    "    \"i\", \"me\", \"my\", \"myself\", \"we\", \"our\", \"ours\", \"ourselves\", \"you\", \"your\", \n",
    "    \"yours\", \"yourself\", \"yourselves\", \"he\", \"him\", \"his\", \"himself\", \"she\", \n",
    "    \"her\", \"hers\", \"herself\", \"it\", \"its\", \"itself\", \"they\", \"them\", \"their\", \n",
    "    \"theirs\", \"themselves\", \"what\", \"which\", \"who\", \"whom\", \"this\", \"that\", \n",
    "    \"these\", \"those\", \"am\", \"is\", \"are\", \"was\", \"were\", \"be\", \"been\", \"being\", \n",
    "    \"have\", \"has\", \"had\", \"having\", \"do\", \"does\", \"did\", \"doing\", \"a\", \"an\", \n",
    "    \"the\", \"and\", \"but\", \"if\", \"or\", \"because\", \"as\", \"until\", \"while\", \"of\", \n",
    "    \"at\", \"by\", \"for\", \"with\", \"about\", \"against\", \"between\", \"into\", \"through\", \n",
    "    \"during\", \"before\", \"after\", \"above\", \"below\", \"to\", \"from\", \"up\", \"down\", \n",
    "    \"in\", \"out\", \"on\", \"off\", \"over\", \"under\", \"again\", \"further\", \"then\", \n",
    "    \"once\", \"here\", \"there\", \"when\", \"where\", \"why\", \"how\", \"all\", \"any\", \n",
    "    \"both\", \"each\", \"few\", \"more\", \"most\", \"other\", \"some\", \"such\", \"no\", \n",
    "    \"nor\", \"not\", \"only\", \"own\", \"same\", \"so\", \"than\", \"too\", \"very\", \"s\", \n",
    "    \"t\", \"can\", \"will\", \"just\", \"don\", \"should\", \"now\"\n",
    "])\n",
    "\n",
    "# Eliminar stopwords manualmente de los textos\n",
    "data['clean_text'] = data['text'].apply(lambda x: ' '.join([word for word in x.split() if word not in manual_stopwords]))\n",
    "\n",
    "# Dividir datos en desastres y no desastres\n",
    "disaster_tweets = data[data['target'] == 1]\n",
    "non_disaster_tweets = data[data['target'] == 0]\n",
    "\n",
    "# Calcular la frecuencia de palabras sin stopwords\n",
    "disaster_words_clean = Counter(\" \".join(disaster_tweets['clean_text']).split())\n",
    "non_disaster_words_clean = Counter(\" \".join(non_disaster_tweets['clean_text']).split())\n",
    "\n",
    "# Mostrar las 10 palabras más comunes en cada categoría\n",
    "top_disaster_words = disaster_words_clean.most_common(10)\n",
    "top_non_disaster_words = non_disaster_words_clean.most_common(10)\n",
    "\n",
    "top_disaster_words, top_non_disaster_words\n"
   ]
  },
  {
   "cell_type": "markdown",
   "metadata": {},
   "source": [
    "¿Qué\n",
    "palabras cree que le servirán para hacer un mejor modelo de clasificación?¿vale la pena explorar\n",
    "bigramas o trigramas para analizar contexto?"
   ]
  }
 ],
 "metadata": {
  "kernelspec": {
   "display_name": "Python 3",
   "language": "python",
   "name": "python3"
  },
  "language_info": {
   "codemirror_mode": {
    "name": "ipython",
    "version": 3
   },
   "file_extension": ".py",
   "mimetype": "text/x-python",
   "name": "python",
   "nbconvert_exporter": "python",
   "pygments_lexer": "ipython3",
   "version": "3.12.1"
  }
 },
 "nbformat": 4,
 "nbformat_minor": 2
}
